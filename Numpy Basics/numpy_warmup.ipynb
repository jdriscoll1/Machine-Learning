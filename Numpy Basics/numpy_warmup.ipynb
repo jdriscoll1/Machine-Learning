{
 "cells": [
  {
   "cell_type": "markdown",
   "id": "96c47bc5",
   "metadata": {},
   "source": [
    "# Jordan Driscoll 905812"
   ]
  },
  {
   "cell_type": "markdown",
   "id": "40378c46",
   "metadata": {},
   "source": [
    "## You are allowed and encouraged to search and get help from any resource, but write down the code by your own hands. "
   ]
  },
  {
   "cell_type": "code",
   "execution_count": 1,
   "id": "0de6d8fd",
   "metadata": {},
   "outputs": [],
   "source": [
    "import numpy as np"
   ]
  },
  {
   "cell_type": "markdown",
   "id": "de6b1fb0",
   "metadata": {},
   "source": [
    "### Your work: \n",
    "\n",
    "Create a new cell right below this cell. In the new cell, write one or a few statements that create and print a $3 \\times 4$ (ie., 3 rows by 4 columns)  ndarray of random numbers from the range $[0,1)$. The result should be something similar to the following (numbers could be different): \n",
    "\n",
    "[[0.21559175 0.71091185 0.78264013 0.0816029 ]\n",
    "\n",
    " [0.86528926 0.43816422 0.9406306  0.54750664]\n",
    "\n",
    "[0.794279   0.48067576 0.97565906 0.72432521]]"
   ]
  },
  {
   "cell_type": "code",
   "execution_count": 1,
   "id": "55d9575b",
   "metadata": {},
   "outputs": [
    {
     "name": "stdout",
     "output_type": "stream",
     "text": [
      "[[0.77395605 0.43887844 0.85859792 0.69736803]\n",
      " [0.09417735 0.97562235 0.7611397  0.78606431]\n",
      " [0.12811363 0.45038594 0.37079802 0.92676499]]\n"
     ]
    }
   ],
   "source": [
    "#import random functionality \n",
    "from numpy.random import default_rng\n",
    "from numpy.random import rand as rand\n",
    "#create array\n",
    "print(default_rng(42).random((3,4)))"
   ]
  },
  {
   "cell_type": "code",
   "execution_count": 8,
   "id": "06344e32",
   "metadata": {},
   "outputs": [
    {
     "name": "stdout",
     "output_type": "stream",
     "text": [
      "[[1 2 3]\n",
      " [4 5 6]]\n"
     ]
    }
   ],
   "source": [
    "#creates new 2x3 array a\n",
    "a = np.array([[1,2,3],[4,5,6]])\n",
    "print(a)"
   ]
  },
  {
   "cell_type": "markdown",
   "id": "013176bd",
   "metadata": {},
   "source": [
    "### Your work:\n",
    "Creat a new cell right below this cell. In the new cell, write one or a few statements that print the transpose of matrix $a$ defined above. The print should be looking like this: \n",
    "\n",
    "[[1 4]\n",
    "\n",
    " [2 5]\n",
    "\n",
    "[3 6]]"
   ]
  },
  {
   "cell_type": "code",
   "execution_count": 9,
   "id": "c5c99d0a",
   "metadata": {},
   "outputs": [
    {
     "name": "stdout",
     "output_type": "stream",
     "text": [
      "[[1 4]\n",
      " [2 5]\n",
      " [3 6]]\n"
     ]
    }
   ],
   "source": [
    "\n",
    "#Tranposes 2x3 array to 3x2 array \n",
    "print(np.transpose(a))"
   ]
  },
  {
   "cell_type": "code",
   "execution_count": 10,
   "id": "10557c14",
   "metadata": {},
   "outputs": [
    {
     "name": "stdout",
     "output_type": "stream",
     "text": [
      "[[ 1  2  3  4]\n",
      " [ 5  6  7  8]\n",
      " [ 9 10 11 12]]\n"
     ]
    }
   ],
   "source": [
    "#creates new 3x4 array b \n",
    "b = np.array([[1,2,3,4],[5,6,7,8],[9,10,11,12]])\n",
    "print(b)"
   ]
  },
  {
   "cell_type": "markdown",
   "id": "1a7dd159",
   "metadata": {},
   "source": [
    "### Your work:\n",
    "Creat a new cell right below this cell. In the new cell, write one or a few statements that print the multiplication of matrix a and matrix b that are definded above. The print should be looking like this: \n",
    "\n",
    "[[ 38  44  50  56]\n",
    "\n",
    " [ 83  98 113 128]]\n"
   ]
  },
  {
   "cell_type": "code",
   "execution_count": 11,
   "id": "f03a16c3",
   "metadata": {},
   "outputs": [
    {
     "name": "stdout",
     "output_type": "stream",
     "text": [
      "[[ 38  44  50  56]\n",
      " [ 83  98 113 128]]\n"
     ]
    }
   ],
   "source": [
    "#A function that multiplies two array via the dot product\n",
    "print(np.dot(a, b))\n",
    " "
   ]
  },
  {
   "cell_type": "code",
   "execution_count": 12,
   "id": "ba7ca6fb",
   "metadata": {},
   "outputs": [
    {
     "name": "stdout",
     "output_type": "stream",
     "text": [
      "[[10 20 30]\n",
      " [40 50 60]]\n"
     ]
    }
   ],
   "source": [
    "#create new array c\n",
    "c = np.array([[10,20,30],[40,50,60]])\n",
    "print(c)\n",
    "\n"
   ]
  },
  {
   "cell_type": "markdown",
   "id": "f7e83d22",
   "metadata": {},
   "source": [
    "### Your work:\n",
    "Create a new cell right below this cell. In the new cell, write one or a few statements that print the element-wise (also called component-wise) multiplication of matrix a and matrix c that definded above. The print should be looking like this: \n",
    "\n",
    "[[ 10  40  90]\n",
    "\n",
    " [160 250 360]]"
   ]
  },
  {
   "cell_type": "code",
   "execution_count": 15,
   "id": "79e66844",
   "metadata": {},
   "outputs": [
    {
     "name": "stdout",
     "output_type": "stream",
     "text": [
      "[[ 10  40  90]\n",
      " [160 250 360]]\n"
     ]
    }
   ],
   "source": [
    "#element-wise multiplication\n",
    "print(np.multiply(a, c))"
   ]
  },
  {
   "cell_type": "markdown",
   "id": "3e0957c0",
   "metadata": {},
   "source": [
    "### Your work:\n",
    "\n",
    "Creat a new cell right below this cell. In the new cell, write one or a few statements that add a new column to matrix b (the newly added column becomes the 0th column), and save the resuling new matrix to d (without changing b), then print d. The print should be looking like this: \n",
    "\n",
    "[[ 1  1  2  3  4]\n",
    "\n",
    " [ 1  5  6  7  8]\n",
    "\n",
    "[ 1  9 10 11 12]]\n",
    "\n",
    "Hint: Use np.insert() method. Search and read its document. "
   ]
  },
  {
   "cell_type": "code",
   "execution_count": 19,
   "id": "abb069f6",
   "metadata": {},
   "outputs": [
    {
     "name": "stdout",
     "output_type": "stream",
     "text": [
      "[[ 1  1  2  3  4]\n",
      " [ 1  5  6  7  8]\n",
      " [ 1  9 10 11 12]]\n"
     ]
    }
   ],
   "source": [
    "#Add a new column into b filled w/ ones\n",
    "print(np.insert(b, [0], 1, axis=1))\n",
    "\n"
   ]
  },
  {
   "cell_type": "code",
   "execution_count": 17,
   "id": "2f7f79ce",
   "metadata": {},
   "outputs": [
    {
     "name": "stdout",
     "output_type": "stream",
     "text": [
      "[1 2 3]\n"
     ]
    }
   ],
   "source": [
    "#create new 1-Dimensional array e \n",
    "e = np.array([1,2,3])\n",
    "print(e)"
   ]
  },
  {
   "cell_type": "markdown",
   "id": "a76cb605",
   "metadata": {},
   "source": [
    "### Your work:\n",
    "\n",
    "Creat a new cell right below this cell. In the new cell, write one or a few statements that prints the inverse of e. The result should be the following: \n",
    "\n",
    "    [[1]\n",
    "\n",
    "     [2]\n",
    "\n",
    "    [3]]\n",
    "\n",
    "Hint: Study the reshape function. You need to increase the ndim of the ndarray from 1 to 2, then the transpose function can work. "
   ]
  },
  {
   "cell_type": "code",
   "execution_count": 21,
   "id": "59454d33",
   "metadata": {},
   "outputs": [
    {
     "name": "stdout",
     "output_type": "stream",
     "text": [
      "[[1]\n",
      " [2]\n",
      " [3]]\n"
     ]
    }
   ],
   "source": [
    "print(np.transpose(np.reshape(e, (1, 3))))\n"
   ]
  }
 ],
 "metadata": {
  "kernelspec": {
   "display_name": "Python 3 (ipykernel)",
   "language": "python",
   "name": "python3"
  },
  "language_info": {
   "codemirror_mode": {
    "name": "ipython",
    "version": 3
   },
   "file_extension": ".py",
   "mimetype": "text/x-python",
   "name": "python",
   "nbconvert_exporter": "python",
   "pygments_lexer": "ipython3",
   "version": "3.9.7"
  }
 },
 "nbformat": 4,
 "nbformat_minor": 5
}
