{
 "cells": [
  {
   "cell_type": "markdown",
   "id": "709fa9b7",
   "metadata": {},
   "source": [
    "# You do not change this file.\n",
    "# Please go to the rec.py file and finish the class there by following the insturctions there."
   ]
  },
  {
   "cell_type": "code",
   "execution_count": 1,
   "id": "76f21600",
   "metadata": {},
   "outputs": [
    {
     "name": "stdout",
     "output_type": "stream",
     "text": [
      "length: 10\n",
      "width: 5\n",
      "area: 50\n",
      "perimeter 30\n",
      "\n",
      "\n",
      "length: 15\n",
      "width: 10\n",
      "area: 150\n",
      "perimeter 50\n"
     ]
    }
   ],
   "source": [
    "import rec\n",
    "\n",
    "\n",
    "## Below are testing code and expected outputs. \n",
    "\n",
    "rec1 = rec.Rectangle(10,5)\n",
    "print('length:', rec1.length)\n",
    "print('width:', rec1.width)\n",
    "print('area:', rec1.area())\n",
    "print('perimeter', rec1.perimeter())\n",
    "print('\\n')\n",
    "\n",
    "rec1.modify(15,10)\n",
    "print('length:', rec1.length)\n",
    "print('width:', rec1.width)\n",
    "print('area:', rec1.area())\n",
    "print('perimeter', rec1.perimeter())\n"
   ]
  },
  {
   "cell_type": "markdown",
   "id": "f49e0e9c",
   "metadata": {},
   "source": [
    "# The correct output should be the following: \n",
    "\n",
    "    length: 10\n",
    "    width: 5\n",
    "    area: 50\n",
    "    perimeter 30\n",
    "\n",
    "\n",
    "    length: 15\n",
    "    width: 10\n",
    "    area: 150\n",
    "    perimeter 50"
   ]
  },
  {
   "cell_type": "code",
   "execution_count": null,
   "id": "2669c0e4",
   "metadata": {},
   "outputs": [],
   "source": []
  }
 ],
 "metadata": {
  "kernelspec": {
   "display_name": "Python 3 (ipykernel)",
   "language": "python",
   "name": "python3"
  },
  "language_info": {
   "codemirror_mode": {
    "name": "ipython",
    "version": 3
   },
   "file_extension": ".py",
   "mimetype": "text/x-python",
   "name": "python",
   "nbconvert_exporter": "python",
   "pygments_lexer": "ipython3",
   "version": "3.9.7"
  }
 },
 "nbformat": 4,
 "nbformat_minor": 5
}
