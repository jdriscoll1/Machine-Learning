{
 "cells": [
  {
   "cell_type": "code",
   "execution_count": 1,
   "id": "ca1dea83",
   "metadata": {},
   "outputs": [],
   "source": [
    "from tensorflow.keras.datasets import cifar10\n",
    "from tensorflow.keras.utils import to_categorical\n",
    "    \n",
    "(x_train, y_train), (x_test, y_test) = cifar10.load_data()\n",
    "train_x = x_train.astype('float32') / 255  # normalization\n",
    "test_x = x_test.astype('float32') / 255\n",
    "train_y = to_categorical(y_train)   # create label vectors\n",
    "test_y = to_categorical(y_test)"
   ]
  },
  {
   "cell_type": "code",
   "execution_count": 2,
   "id": "14342fde",
   "metadata": {},
   "outputs": [],
   "source": [
    "from tensorflow.keras import layers \n",
    "from tensorflow.keras import models"
   ]
  },
  {
   "cell_type": "code",
   "execution_count": 45,
   "id": "cc5d1486",
   "metadata": {},
   "outputs": [],
   "source": [
    "model = models.Sequential()"
   ]
  },
  {
   "cell_type": "code",
   "execution_count": 46,
   "id": "6151638a",
   "metadata": {},
   "outputs": [],
   "source": [
    "model.add(layers.Conv2D(32, (3, 3), activation='relu', padding=\"same\", input_shape=(32, 32, 3))) \n",
    "model.add(layers.MaxPooling2D((2, 2)))\n",
    "model.add(layers.Conv2D(64, (3, 3), activation='relu', padding=\"same\",  input_shape=(32, 32, 3)))\n",
    "model.add(layers.MaxPooling2D((2, 2)))"
   ]
  },
  {
   "cell_type": "code",
   "execution_count": 47,
   "id": "f576c6c0",
   "metadata": {},
   "outputs": [],
   "source": [
    "model.add(layers.Flatten())\n",
    "model.add(layers.Dense(64, activation='relu'))\n",
    "model.add(layers.Dense(64, activation='linear'))\n",
    "model.add(layers.Dense(64, activation='tanh'))\n",
    "model.add(layers.Dense(10, activation='softmax'))\n",
    "model.compile(optimizer='rmsprop',\n",
    "              loss='categorical_crossentropy',\n",
    "              metrics=['accuracy'])"
   ]
  },
  {
   "cell_type": "code",
   "execution_count": 48,
   "id": "42e8c0e9",
   "metadata": {
    "scrolled": true
   },
   "outputs": [
    {
     "name": "stdout",
     "output_type": "stream",
     "text": [
      "Epoch 1/5\n",
      "834/834 [==============================] - 72s 83ms/step - loss: 1.4775 - accuracy: 0.4633 - val_loss: 1.2555 - val_accuracy: 0.5502\n",
      "Epoch 2/5\n",
      "834/834 [==============================] - 72s 86ms/step - loss: 1.0617 - accuracy: 0.6269 - val_loss: 1.1534 - val_accuracy: 0.6050\n",
      "Epoch 3/5\n",
      "834/834 [==============================] - 94s 112ms/step - loss: 0.9048 - accuracy: 0.6819 - val_loss: 1.1886 - val_accuracy: 0.5912\n",
      "Epoch 4/5\n",
      "834/834 [==============================] - 74s 88ms/step - loss: 0.7935 - accuracy: 0.7251 - val_loss: 0.9824 - val_accuracy: 0.6656\n",
      "Epoch 5/5\n",
      "834/834 [==============================] - 75s 90ms/step - loss: 0.7063 - accuracy: 0.7527 - val_loss: 0.9058 - val_accuracy: 0.6872\n"
     ]
    }
   ],
   "source": [
    "history = model.fit(\n",
    "    train_x,\n",
    "    train_y,\n",
    "    batch_size=60,\n",
    "    epochs=5,\n",
    "    validation_data=(test_x, test_y),\n",
    ")"
   ]
  },
  {
   "cell_type": "code",
   "execution_count": 49,
   "id": "bd79928c",
   "metadata": {},
   "outputs": [
    {
     "name": "stdout",
     "output_type": "stream",
     "text": [
      "Epoch 1/5\n",
      "417/417 [==============================] - 56s 134ms/step - loss: 0.5808 - accuracy: 0.7979 - val_loss: 0.8849 - val_accuracy: 0.7090\n",
      "Epoch 2/5\n",
      "417/417 [==============================] - 55s 131ms/step - loss: 0.5203 - accuracy: 0.8212 - val_loss: 0.8892 - val_accuracy: 0.7083\n",
      "Epoch 3/5\n",
      "417/417 [==============================] - 54s 130ms/step - loss: 0.4566 - accuracy: 0.8430 - val_loss: 0.9871 - val_accuracy: 0.6934\n",
      "Epoch 4/5\n",
      "417/417 [==============================] - 56s 135ms/step - loss: 0.4060 - accuracy: 0.8605 - val_loss: 0.9836 - val_accuracy: 0.7077\n",
      "Epoch 5/5\n",
      "417/417 [==============================] - 55s 131ms/step - loss: 0.3543 - accuracy: 0.8791 - val_loss: 1.0621 - val_accuracy: 0.7026\n"
     ]
    }
   ],
   "source": [
    "history = model.fit(\n",
    "    train_x,\n",
    "    train_y,\n",
    "    batch_size=120,\n",
    "    epochs=5,\n",
    "    validation_data=(test_x, test_y),\n",
    ")"
   ]
  },
  {
   "cell_type": "code",
   "execution_count": 51,
   "id": "83185112",
   "metadata": {},
   "outputs": [
    {
     "name": "stdout",
     "output_type": "stream",
     "text": [
      "INFO:tensorflow:Assets written to: keras_CNN_CIFAR10.model\\assets\n"
     ]
    },
    {
     "name": "stderr",
     "output_type": "stream",
     "text": [
      "INFO:tensorflow:Assets written to: keras_CNN_CIFAR10.model\\assets\n"
     ]
    }
   ],
   "source": [
    "model.save('keras_CNN_CIFAR10.model')"
   ]
  }
 ],
 "metadata": {
  "kernelspec": {
   "display_name": "Python 3 (ipykernel)",
   "language": "python",
   "name": "python3"
  },
  "language_info": {
   "codemirror_mode": {
    "name": "ipython",
    "version": 3
   },
   "file_extension": ".py",
   "mimetype": "text/x-python",
   "name": "python",
   "nbconvert_exporter": "python",
   "pygments_lexer": "ipython3",
   "version": "3.9.7"
  }
 },
 "nbformat": 4,
 "nbformat_minor": 5
}
