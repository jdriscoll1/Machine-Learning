{
 "cells": [
  {
   "cell_type": "code",
   "execution_count": 24,
   "id": "8f33fa54-d3bf-4af8-9c18-f516fc6874f0",
   "metadata": {},
   "outputs": [],
   "source": [
    "import numpy as np\n",
    "from IPython.display import clear_output\n",
    "from numpy.random import seed as seed\n",
    "from numpy.random import rand as rand\n",
    "import matplotlib.pyplot as plt\n",
    "import math\n",
    "#\n",
    "#import pla\n",
    "import sys\n",
    "sys.path.append('..')\n",
    "#\n",
    "#from misc.utils import MyUtils"
   ]
  },
  {
   "cell_type": "code",
   "execution_count": 25,
   "id": "1024232d-d9ab-49c3-86b7-c207d1bfd6d0",
   "metadata": {},
   "outputs": [],
   "source": [
    "seed()"
   ]
  },
  {
   "cell_type": "code",
   "execution_count": 26,
   "id": "278c430e-2a8a-47ca-8233-4bc6921d197b",
   "metadata": {},
   "outputs": [],
   "source": [
    "n = 2000 #number of samples\n",
    "epochs = 1000"
   ]
  },
  {
   "cell_type": "code",
   "execution_count": 27,
   "id": "f09cd1a8-c460-448d-bba1-1dbdf575035f",
   "metadata": {},
   "outputs": [],
   "source": [
    "r = 4  # Z space degree   #only support: degree <= 4 for demo purpose. Don't have time to code out the generic form for any degree"
   ]
  },
  {
   "cell_type": "code",
   "execution_count": 28,
   "id": "e44c981c-7264-4d0d-b08b-1e2835434e4f",
   "metadata": {},
   "outputs": [],
   "source": [
    "delta = 0.01"
   ]
  },
  {
   "cell_type": "code",
   "execution_count": 29,
   "id": "9092c62c-ea02-4a07-8caa-6fd2a347e16a",
   "metadata": {},
   "outputs": [],
   "source": [
    "#messed  = True       \n",
    "messed = False \n",
    "mess_percent = 0.02"
   ]
  },
  {
   "cell_type": "code",
   "execution_count": 30,
   "id": "b9e19e56-3182-4302-b784-78c07a8d4a26",
   "metadata": {},
   "outputs": [],
   "source": [
    "def display_w_2D(w, color, degree = 1):\n",
    "    ''' only support: degree <= 4 for demo purpose\n",
    "        Don't have time to code out the generic form for any degree\n",
    "    '''\n",
    "    xrange = np.arange(0.0, 1.0, delta)\n",
    "    yrange = np.arange(0.0, 1.0, delta)\n",
    "    x1, x2 = np.meshgrid(xrange,yrange)\n",
    "    \n",
    "    if degree == 1:\n",
    "        F = w[0] + w[1] * x1 + w[2] * x2\n",
    "    elif degree == 2:\n",
    "        F = w[0] + w[1] * x1 + w[2] * x2 \\\n",
    "            + w[3] * x1 * x1 + w[4] * x1 * x2 + w[5] * x2 * x2                 \n",
    "    elif degree == 3:\n",
    "        F = w[0] + w[1] * x1 + w[2] * x2 \\\n",
    "            + w[3] * x1 * x1 + w[4] * x1 * x2 + w[5] * x2 * x2   \\\n",
    "            + w[6] * x1 * x1 * x1 + w[7] * x1 * x1 * x2 + w[8] * x1 * x2 * x2 + w[9] * x2 * x2 * x2    \n",
    "    elif degree == 4:\n",
    "        F = w[0] + w[1] * x1 + w[2] * x2 \\\n",
    "            + w[3] * x1 * x1 + w[4] * x1 * x2 + w[5] * x2 * x2   \\\n",
    "            + w[6] * x1 * x1 * x1 + w[7] * x1 * x1 * x2 + w[8] * x1 * x2 * x2 + w[9] * x2 * x2 * x2\\\n",
    "            + w[10] * x1 * x1 * x1 * x1 + w[11] * x1 * x1 * x1 * x2 + w[12] * x1 * x1 * x2 * x2 + w[13] * x1 * x2 * x2 * x2 + w[14] * x2 * x2 * x2 * x2\n",
    "\n",
    "    else:\n",
    "        print('Z space degree is too high. Not supported now\\n')\n",
    "        quit()\n",
    "\n",
    "    plt.contour(x1, x2, (F), [0], colors = color)"
   ]
  },
  {
   "cell_type": "code",
   "execution_count": 31,
   "id": "c9b5c4a3-6595-4944-83cb-7241ad2cc9a4",
   "metadata": {},
   "outputs": [],
   "source": [
    "# generate a w_star, d = 2\n",
    "def w_star_gen_2d(degree = 1):\n",
    "    ''' only suppot degree <= 4 for demo purpose. \n",
    "        Don't have time to code out the generic form for any degree\n",
    "    '''\n",
    "    if degree == 1:\n",
    "        w_star = rand(3,1) * np.sign(rand(3,1)-0.5)\n",
    "    elif degree == 2:\n",
    "        w_star = rand(6,1) * np.sign(rand(6,1)-0.5)\n",
    "    elif degree == 3:\n",
    "        w_star = rand(10,1) * np.sign(rand(10,1)-0.5)\n",
    "    elif degree == 4:\n",
    "        w_star = rand(15,1) * np.sign(rand(15,1)-0.5)\n",
    "    \n",
    "    else:\n",
    "        print('Z space degree is too high. Not supported now\\n')\n",
    "        quit()\n",
    "\n",
    "    return w_star"
   ]
  },
  {
   "cell_type": "code",
   "execution_count": 36,
   "id": "81d04e3f-8bb8-46b4-a1e4-00620f9bd01d",
   "metadata": {},
   "outputs": [
    {
     "name": "stdout",
     "output_type": "stream",
     "text": [
      "w_star: \n",
      " [[-0.07657943]\n",
      " [ 0.10234415]\n",
      " [ 0.19542802]\n",
      " [-0.32488519]\n",
      " [ 0.32576776]\n",
      " [ 0.25414374]\n",
      " [-0.38607631]\n",
      " [ 0.46930711]\n",
      " [ 0.88471468]\n",
      " [ 0.01018432]\n",
      " [-0.48936046]\n",
      " [-0.64960458]\n",
      " [ 0.35513935]\n",
      " [ 0.80008067]\n",
      " [ 0.34848473]]\n"
     ]
    },
    {
     "data": {
      "image/png": "[encoded data removed]",
      "text/plain": [
       "<Figure size 432x288 with 1 Axes>"
      ]
     },
     "metadata": {
      "needs_background": "light"
     },
     "output_type": "display_data"
    }
   ],
   "source": [
    "# randomly generate a target weight vector the PLA is going to search for\n",
    "w_star = w_star_gen_2d(degree = r)\n",
    "display_w_2D(w_star, color='green', degree = r)\n",
    "print('w_star: \\n', w_star)"
   ]
  },
  {
   "cell_type": "code",
   "execution_count": 37,
   "id": "52d5ecb4-8ca3-4e1c-96bf-51076ec636a2",
   "metadata": {},
   "outputs": [
    {
     "name": "stdout",
     "output_type": "stream",
     "text": [
      "[[-0.07657943]\n",
      " [ 0.10234415]\n",
      " [ 0.19542802]\n",
      " [-0.32488519]\n",
      " [ 0.32576776]\n",
      " [ 0.25414374]\n",
      " [-0.38607631]\n",
      " [ 0.46930711]\n",
      " [ 0.88471468]\n",
      " [ 0.01018432]\n",
      " [-0.48936046]\n",
      " [-0.64960458]\n",
      " [ 0.35513935]\n",
      " [ 0.80008067]\n",
      " [ 0.34848473]]\n"
     ]
    }
   ],
   "source": [
    "# randomly generate the features of n samples. \n",
    "X = rand(n,2) \n",
    "\n",
    "Z = MyUtils.z_transform(X=X, degree = r)\n",
    "Z = np.insert(Z, 0, 1, axis = 1)  # add the bias column\n",
    "\n",
    "\n",
    "print(w_star)\n",
    "#create the label array\n",
    "y = np.sign(Z @ w_star)\n",
    "to_delete = [] #index of rows to be deleted because those points sit on w_star\n",
    "for i in range(n):\n",
    "    if y[i] == 0:\n",
    "        to_delete.append(i)\n",
    "\n",
    "# delete those samples sitting right on w_star        \n",
    "X = np.delete(X, to_delete, axis = 0)\n",
    "Z = np.delete(Z, to_delete, axis = 0)\n",
    "y = np.delete(y, to_delete, axis = 0)\n",
    "n = n - len(to_delete)\n"
   ]
  },
  {
   "cell_type": "code",
   "execution_count": 38,
   "id": "496790ec-9019-41d0-8668-2386b159b2f9",
   "metadata": {},
   "outputs": [],
   "source": [
    "# mess up mess_percent of the samples to test pocket pla      \n",
    "if messed: \n",
    "    for i in range(math.floor(n * mess_percent)):\n",
    "        pos = math.floor(rand()*n)\n",
    "        y[pos] = y[pos] * (-1)"
   ]
  },
  {
   "cell_type": "code",
   "execution_count": 39,
   "id": "dba87bcd-1e20-48b4-a50f-2c8ca44ba01a",
   "metadata": {},
   "outputs": [],
   "source": [
    "# separate + and - samples for plotting     \n",
    "pos = np.empty([1,2])\n",
    "neg = np.empty([1,2])\n",
    "for i in range(n):\n",
    "    if y[i] == 1:\n",
    "        pos = np.insert(pos, 0, X[i], 0)\n",
    "    else: \n",
    "        neg = np.insert(neg, 0, X[i], 0)\n",
    "# delete the init/useless row which is on the bottom        \n",
    "pos = np.delete(pos, -1, 0)\n",
    "neg = np.delete(neg, -1, 0)"
   ]
  },
  {
   "cell_type": "code",
   "execution_count": 40,
   "id": "a6d393b6-672e-443b-902a-c66c64fb1de5",
   "metadata": {},
   "outputs": [
    {
     "data": {
      "image/png": "[encoded data removed]",
      "text/plain": [
       "<Figure size 432x288 with 1 Axes>"
      ]
     },
     "metadata": {
      "needs_background": "light"
     },
     "output_type": "display_data"
    }
   ],
   "source": [
    "# display the data samples and the target classifier that PLA is tring to learn\n",
    "plt.scatter(pos[:,0], pos[:,1], marker='+')\n",
    "plt.scatter(neg[:,0], neg[:,1], marker='_')\n",
    "\n",
    "display_w_2D(w_star, color = 'green', degree = r)\n",
    "\n",
    "plt.xlabel('x1')\n",
    "plt.ylabel('x2')\n",
    "plt.show()"
   ]
  },
  {
   "cell_type": "code",
   "execution_count": 41,
   "id": "db2d14db-a045-4991-86db-6446636a4535",
   "metadata": {},
   "outputs": [],
   "source": [
    "perceptron = PLA()\n",
    "\n",
    "r_z = r\n",
    "\n",
    "if messed: \n",
    "    print(\"It's messed dawg\")\n",
    "    #perceptron.fit(X, y, pocket = True, epochs = epochs, degree = r_z)\n",
    "else: \n",
    "    perceptron.fit(X, y, pocket = False, degree = r_z)\n",
    "\n",
    "\n",
    "#print('w:\\n', perceptron.w)\n",
    "#print(w_star)\n",
    "\n"
   ]
  },
  {
   "cell_type": "code",
   "execution_count": 42,
   "id": "ce6be568-d9a0-4c35-9d60-19798770e209",
   "metadata": {},
   "outputs": [
    {
     "data": {
      "image/png": "[encoded data removed]",
      "text/plain": [
       "<Figure size 432x288 with 1 Axes>"
      ]
     },
     "metadata": {
      "needs_background": "light"
     },
     "output_type": "display_data"
    }
   ],
   "source": [
    "# display the data samples and the target classifier that PLA is tring to learn\n",
    "plt.scatter(pos[:,0], pos[:,1], marker='+')\n",
    "plt.scatter(neg[:,0], neg[:,1], marker='_')\n",
    "\n",
    "display_w_2D(w_star, color = 'green', degree = r)\n",
    "display_w_2D(perceptron.w, color = 'red', degree = r_z)\n",
    "\n",
    "\n",
    "plt.xlabel('x1')\n",
    "plt.ylabel('x2')\n",
    "plt.show()"
   ]
  },
  {
   "cell_type": "code",
   "execution_count": 22,
   "id": "781d3221-d0a7-45f1-9f0c-5ddd2b144cbd",
   "metadata": {},
   "outputs": [
    {
     "name": "stdout",
     "output_type": "stream",
     "text": [
      "misclassified counts: 0\n",
      "\n",
      "\n"
     ]
    }
   ],
   "source": [
    "print('misclassified counts:', perceptron.error(X,y))\n",
    "print('\\n')"
   ]
  },
  {
   "cell_type": "code",
   "execution_count": 5,
   "id": "84cec80f",
   "metadata": {},
   "outputs": [
    {
     "name": "stdout",
     "output_type": "stream",
     "text": [
      "[[  1   2   3   1   2   3   4   6   9   1   2   3   4   6   9   8  12  18\n",
      "   27]\n",
      " [  2   3   4   4   6   8   9  12  16   8  12  16  18  24  32  27  36  48\n",
      "   64]\n",
      " [  3   4   5   9  12  15  16  20  25  27  36  45  48  60  75  64  80 100\n",
      "  125]]\n"
     ]
    }
   ],
   "source": [
    "##### >>>>>> Jordan Driscoll 985812\n",
    "\n",
    "\n",
    "# Various tools for data manipulation. \n",
    "\n",
    "\n",
    "\n",
    "import numpy as np\n",
    "import math\n",
    "\n",
    "class MyUtils:\n",
    "\n",
    "    \n",
    "    def z_transform(X, degree = 2):\n",
    "        \n",
    "        ''' Transforming traing samples to the Z space\n",
    "            X: n x d matrix of samples, excluding the x_0 = 1 feature\n",
    "            degree: the degree of the Z space\n",
    "            return: the n x d' matrix of samples in the Z space, excluding the z_0 = 1 feature.\n",
    "            It can be mathematically calculated: d' = \\sum_{k=1}^{degree} (k+d-1) \\choose (d-1)\n",
    "\n",
    "        '''\n",
    "        # Set r to degree\n",
    "        r = degree\n",
    "        \n",
    "        # degree $leq$ 1, return x \n",
    "        if r <= 1:\n",
    "            return X\n",
    "        \n",
    "        # n is the number of X's rows --> The number of points\n",
    "        # d is the number of X's cols --> The dimensionality \n",
    "        n,d = np.shape(X)\n",
    "        \n",
    "        # Z is going to be a copy of x = Starts out exactly the same \n",
    "        Z = X.copy()\n",
    "        \n",
    "        \n",
    "        \n",
    "        # next it is necessary to create all of the buckets\n",
    "        # a bucket is a matrix with all the possible combinations of multiplications which acheives a certain, single degree \n",
    "        # the # of buckets is conceptuall known d -r -1 Choose d - 1 \n",
    "        # let's save those numbers in an array \n",
    "        \n",
    "        #there will b r buckets \n",
    "        \n",
    "        # B is a list with a bunch of buckets  \n",
    "        B = []\n",
    "        \n",
    "        \n",
    "        # the number of buckets \n",
    "        for i in range(r):\n",
    "            # append a number - the ith bucket size which can be calculated w/ this equation\n",
    "            # math.comb = n choose k \n",
    "            m = d+i # 0-based indexing t.f. the -1 is gone, d is the size of the X matrix \n",
    "            k = d-1 \n",
    "            B.append(math.comb(m,k))\n",
    "    \n",
    "   \n",
    "        ell = np.arange(np.sum(B)) # The summation of all the elements in the B array\n",
    "\n",
    "        q = 0 # the total size of all of the buckets before the previous bucket\n",
    "        \n",
    "        p = d # the size of the previous bucket\n",
    "        g = p\n",
    "        \n",
    "        # at the beginning, there is one bucket \n",
    "        for i in range(1, r): # 1, 2, 3, ... r-1 \n",
    "            \n",
    "            # create each bucket up to the ith bucket, visit the previous bucket \n",
    "            #print(\"New I Loop\\ni: \", i)\n",
    "            # go through every element in the previous bucket - the range starting from q going to q+p \n",
    "            for j in range(q, p):\n",
    "                head = ell[j]\n",
    "\n",
    "        \n",
    "                # this tracks the index of the new column\n",
    "           \n",
    "            \n",
    "                # go from head to lexographically highest feature\n",
    "                for k in range(head, d):\n",
    "\n",
    "                    #elementwise multiplication\n",
    "                    temp = (Z[: ,j] * X[:, k]).reshape(-1,1)\n",
    "                    # insert new column temp on right side\n",
    "                    Z = np.append(Z, temp, axis=1)\n",
    "                    \n",
    "                    # j is hte index of the column you are currently computing\n",
    "                    ell[g] = k # just multiplied w/ x's k column\n",
    "\n",
    "                    g += 1\n",
    "\n",
    "            # adding previous bucket into p the new previous buck\n",
    "            q = p \n",
    "\n",
    "            # the new previous bucket is going to be i which is the current i but will soon be updated \n",
    "            p += B[i] \n",
    " \n",
    "\n",
    "        \n",
    "        assert Z.shape[1] == np.sum(B)\n",
    "        \n",
    "        return Z\n",
    "X = np.array([[1, 2, 3], [2, 3, 4], [3, 4, 5]])\n",
    "Z = MyUtils.z_transform(X, 3)\n",
    "print(Z)\n",
    "\n",
    "\n",
    "    \n",
    "    "
   ]
  },
  {
   "cell_type": "code",
   "execution_count": 3,
   "id": "51c57e57",
   "metadata": {},
   "outputs": [],
   "source": [
    "# Implementation of the perceptron learning algorithm. Support the pocket version for linearly unseparatable data. \n",
    "# Authro: Bojian Xu, bojianxu@ewu.edu\n",
    "\n",
    "#Important observation: \n",
    "#    - The PLA can increase or decrease $w[0]$ by 1 per update, so if there is a big difference between $w^*[0]$ and the #initial value of $w[0]$, the PLA is likely to take a long time before it halts. However, the theoretical bound $O((L/d)^2)$ #step of course still holds, where $L = \\max\\{\\lVert x\\rVert\\}$ and $d$ is the margine size.\n",
    "#    - This can solved by always have feature values within [0,1], because by doing so, the $x_0=1$ becomes relatively #larger (or one can also say $x_0$ becomes fairly as important as other feathers), which makes the changes to $w[0]$ much #faster. This is partially why nueral network requires all feature value to be [0,1] --- the so-called data normalization #process!!!\n",
    "\n",
    "# Another reason for normalizing the feature into [0,1] is: no matter which Z space the samples are tranformed to, the Z-space sample features will still be in the [0,1] range. \n",
    "\n",
    "import numpy as np\n",
    "\n",
    "import sys\n",
    "sys.path.append(\"..\")\n",
    "\n",
    "from misc.utils import MyUtils\n",
    "\n",
    "\n",
    "\n",
    "class PLA:\n",
    "    def __init__(self):\n",
    "        self.w = None\n",
    "        self.degree = 1\n",
    "        \n",
    "    def fit(self, X, y, pocket = True, epochs = 100, degree = 1):\n",
    "        ''' X: n x d matrix \n",
    "            y: n x 1 vector of {+1, -1}\n",
    "            degree: the degree of the Z space\n",
    "            return w\n",
    "        '''\n",
    "    \n",
    "        self.degree = degree\n",
    "        if(self.degree > 1):\n",
    "            X = MyUtils.z_transform(X, degree = self.degree)\n",
    "            \n",
    "        n, d = X.shape\n",
    "        X = np.insert(X, 0, 1, axis = 1) # add the column of x_0 = 1 features.\n",
    "        self.w = np.array([[0],]* (d+1)) # init the w vector\n",
    "\n",
    "        updated = True\n",
    "                          \n",
    "        if not pocket:\n",
    "            while updated:\n",
    "                updated = False\n",
    "                for i in range(n):\n",
    "                    if np.sign(X[i] @ self.w) != y[i,0]:\n",
    "                        self.w = self.w + (y[i,0] * X[i]).reshape(-1,1)\n",
    "                        updated = True\n",
    "        else:\n",
    "            errors = n # record the smallest number of errors so far\n",
    "            best_w = self.w # record the best w vector so far\n",
    "            while updated and epochs > 0:\n",
    "                updated = False\n",
    "                epochs -= 1\n",
    "                for i in range(n):\n",
    "                    if np.sign(X[i] @ self.w) != y[i,0]:\n",
    "                        self.w = self.w + (y[i,0] * X[i]).reshape(-1,1)\n",
    "                        updated = True\n",
    "                        cur_errors = self._error_z(X, y)\n",
    "                        if cur_errors < errors:\n",
    "                            errors = cur_errors\n",
    "                            best_w = self.w\n",
    "            self.w = best_w\n",
    "        \n",
    "        return self.w\n",
    "    \n",
    "    def predict(self, X):\n",
    "        ''' x: n x d matrix \n",
    "            return: n x 1 vector, the labels of samples in X\n",
    "        '''\n",
    "        if(self.degree > 1):\n",
    "            X = MyUtils.z_transform(X, degree = self.degree)\n",
    "\n",
    "        X = np.insert(X, 0, 1, axis = 1) # add the x_0 = 1 feature\n",
    "\n",
    "        return np.sign(X @ self.w)\n",
    "    \n",
    "\n",
    "    def _error_z(self, Z, y):\n",
    "        ''' Used internally by the fit function to count the misclassied samples.\n",
    "            The sample Z is in the Z space with the bias column.\n",
    "            \n",
    "            Z: n x (d'+1) matrix \n",
    "            y: n x 1 vector\n",
    "            \n",
    "            return: the number of misclassifed elements in Z using self.w\n",
    "        '''\n",
    "                    \n",
    "        n = Z.shape[0]\n",
    "\n",
    "        # this is better code than the loop below but needs a test when time is available        \n",
    "        y_hat = Z @ self.w\n",
    "        y_hat = np.sign(y_hat)\n",
    "        errors = n - np.sum(y_hat == y)\n",
    "                \n",
    "        return errors\n",
    "\n",
    "\n",
    "    def error(self, X, y):\n",
    "        ''' X: n x d matrix \n",
    "            y: n x 1 vector\n",
    "            return the number of misclassifed elements in X using self.w\n",
    "        '''\n",
    "        \n",
    "        if(self.degree > 1):\n",
    "            X = MyUtils.z_transform(X, degree = self.degree)\n",
    "            \n",
    "        X = np.insert(X, 0, 1, axis = 1) # add the column of x_0 = 1 features.\n",
    "\n",
    "        # this is better code than the loop below but needs a test when time is available        \n",
    "        y_hat = X @ self.w\n",
    "        y_hat = np.sign(y_hat)\n",
    "        errors = np.sum(y_hat != y)\n",
    "                \n",
    "        return errors\n",
    "\n",
    "\n"
   ]
  },
  {
   "cell_type": "code",
   "execution_count": 6,
   "id": "abcd06cd",
   "metadata": {},
   "outputs": [
    {
     "name": "stdout",
     "output_type": "stream",
     "text": [
      "1 1\n",
      "1 2\n",
      "1 3\n",
      "1 4\n",
      "2 1\n",
      "2 2\n",
      "2 3\n",
      "2 4\n",
      "3 1\n",
      "3 2\n",
      "3 3\n",
      "3 4\n",
      "4 1\n",
      "4 2\n",
      "4 3\n",
      "4 4\n"
     ]
    }
   ],
   "source": [
    "import numpy as np\n",
    "import math\n",
    "\n",
    "def combinations(r,d):\n",
    "    sum = 0\n",
    "    for i in range(r):\n",
    "        sum += math.comb(i+d,d-1)\n",
    "    return sum\n",
    "\n",
    "def generateX(n,d):\n",
    "    return np.arange(1,n*d + 1).reshape(n,d)\n",
    "\n",
    "def getExpectedResults(file=\"output.npz\"):\n",
    "    container = np.load(file)\n",
    "    data = [container[key] for key in container]\n",
    "    return data\n",
    "\n",
    "Z_list = []\n",
    "n = 5\n",
    "max_d = 4\n",
    "max_r = 4\n",
    "data = getExpectedResults()\n",
    "for d in range(1,max_d+1):\n",
    "    for r in range(1,max_r+1):\n",
    "        print(d, r)\n",
    "        X = generateX(n,d)\n",
    "        Z = MyUtils.z_transform(X,degree=r)\n",
    "        cols = combinations(r,d)\n",
    "        assert cols == Z.shape[1], f\"An incorrect number of columns were generated for degree {r} and {d} feature(s).\\nExpected: {cols}\\nFound: {Z.shape[1]}\"\n",
    "        data_idx = max_d*(d-1) + (r-1)\n",
    "        assert np.all(data[data_idx] == Z), f\"Mismatched Z matrices for degree {r} and {d} feature(s).\\nExpected:\\n{data[data_idx]}\\nFound:\\n{Z}\"\n"
   ]
  },
  {
   "cell_type": "code",
   "execution_count": null,
   "id": "638604f2",
   "metadata": {},
   "outputs": [],
   "source": []
  }
 ],
 "metadata": {
  "kernelspec": {
   "display_name": "Python 3 (ipykernel)",
   "language": "python",
   "name": "python3"
  },
  "language_info": {
   "codemirror_mode": {
    "name": "ipython",
    "version": 3
   },
   "file_extension": ".py",
   "mimetype": "text/x-python",
   "name": "python",
   "nbconvert_exporter": "python",
   "pygments_lexer": "ipython3",
   "version": "3.9.7"
  }
 },
 "nbformat": 4,
 "nbformat_minor": 5
}
